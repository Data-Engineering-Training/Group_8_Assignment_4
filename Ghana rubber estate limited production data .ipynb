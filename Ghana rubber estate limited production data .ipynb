{
 "cells": [
  {
   "cell_type": "markdown",
   "id": "d370e13d",
   "metadata": {},
   "source": [
    "Objective Statement\n",
    "\n",
    "1. The objective of this project is to generate and manipulate synthetic data representing the operations of Ghana Rubber Estates Limited (GREL) using the Faker library. This involves creating 100,000 records with fields including 'Production Date', 'Production Quantity (kg)', 'Production Location', 'Production Cost', and 'Production Hours'.\n",
    "\n",
    "2. The data will then be ingested into a relational database system such as Postgres or MySQL using a structured pipeline. Following ingestion, the pipeline will facilitate querying of the data to answer at least 10 questions related to GREL's production activities. Additionally, the project will document these queries in a separate file and visually represent the pipeline through a diagram. \n",
    "\n",
    "This initiative aims to simulate real-world data management scenarios and provide insights into the operations of GREL for analytical purposes."
   ]
  },
  {
   "cell_type": "code",
   "execution_count": 1,
   "id": "5e5ff1ec",
   "metadata": {},
   "outputs": [
    {
     "name": "stdout",
     "output_type": "stream",
     "text": [
      "Requirement already satisfied: faker in /opt/anaconda3/lib/python3.11/site-packages (24.4.0)\n",
      "Requirement already satisfied: python-dateutil>=2.4 in /opt/anaconda3/lib/python3.11/site-packages (from faker) (2.8.2)\n",
      "Requirement already satisfied: six>=1.5 in /opt/anaconda3/lib/python3.11/site-packages (from python-dateutil>=2.4->faker) (1.16.0)\n",
      "Note: you may need to restart the kernel to use updated packages.\n"
     ]
    }
   ],
   "source": [
    "# installing faker Library\n",
    "\n",
    "pip install faker"
   ]
  },
  {
   "cell_type": "code",
   "execution_count": 9,
   "id": "aa63fc48",
   "metadata": {},
   "outputs": [],
   "source": [
    "# Importing of libraries \n",
    "\n",
    "from faker import Faker\n",
    "import pandas as pd\n",
    "import numpy as np"
   ]
  },
  {
   "cell_type": "code",
   "execution_count": 10,
   "id": "b978218f",
   "metadata": {},
   "outputs": [],
   "source": [
    "# Initializing Faker to generate fake data\n",
    "\n",
    "fake = Faker()"
   ]
  },
  {
   "cell_type": "code",
   "execution_count": 11,
   "id": "a741acd0",
   "metadata": {},
   "outputs": [],
   "source": [
    "# Defining cities within each region of production\n",
    "\n",
    "# The main production sites are typically located in the Eastern, Western, and Central regions of Ghana. \n",
    "\n",
    "cities_by_region = {\n",
    "    'Eastern Region': ['Bunso', 'Kade'],\n",
    "    'Western Region': ['Daboase', 'Agona'],\n",
    "    'Central Region': ['Abura Dunkwa']\n",
    "}\n"
   ]
  },
  {
   "cell_type": "code",
   "execution_count": 13,
   "id": "792ab11f",
   "metadata": {},
   "outputs": [],
   "source": [
    "# Defining a function to generate production data for Ghana Rubber Estates Limited\n",
    "\n",
    "def generate_production_data(num_records):\n",
    "    \n",
    "    data = []\n",
    "    \n",
    "    for _ in range(num_records):\n",
    "        \n",
    "        # Generate production date\n",
    "        production_date = fake.date_between(start_date='-1y', end_date='today')  # Production date within the last year\n",
    "        \n",
    "        # Generate production quantity (in kilograms)\n",
    "        production_quantity = fake.random_number(digits=4)  # Random 4-digit number for production quantity\n",
    "        \n",
    "        # Generate production location (plantation) within the specified cities and regions\n",
    "        region = fake.random_element(elements=list(cities_by_region.keys()))  # Randomly select a region\n",
    "        city = fake.random_element(elements=cities_by_region[region])  # Randomly select a city within the region\n",
    "        production_location = f\"{city}, {region}\"  # Format production location\n",
    "        \n",
    "        \n",
    "        # Generate production cost (in local currency)\n",
    "        production_cost = fake.random_number(digits=5)  # Random 5-digit number for production cost\n",
    "        \n",
    "        # Generate production hours\n",
    "        production_hours = fake.random_number(digits=2)  # Random 2-digit number for production hours\n",
    "        \n",
    "        # Append the generated data to the list\n",
    "        data.append({\n",
    "            'Production Date': production_date,\n",
    "            'Production Quantity (kg)': production_quantity,\n",
    "            'Production Location': production_location,\n",
    "            'Production Cost': production_cost,\n",
    "            'Production Hours': production_hours\n",
    "        })\n",
    "    \n",
    "    return data\n",
    "\n"
   ]
  },
  {
   "cell_type": "code",
   "execution_count": 14,
   "id": "50fa330a",
   "metadata": {},
   "outputs": [],
   "source": [
    "# Define the number of records to generate\n",
    "num_records = 100000\n",
    "\n"
   ]
  },
  {
   "cell_type": "code",
   "execution_count": 15,
   "id": "0d4f218d",
   "metadata": {},
   "outputs": [],
   "source": [
    "# Generate production data for Ghana Rubber Estates Limited\n",
    "production_data = generate_production_data(num_records)\n",
    "\n"
   ]
  },
  {
   "cell_type": "code",
   "execution_count": 16,
   "id": "690e7d71",
   "metadata": {},
   "outputs": [],
   "source": [
    "# Create a DataFrame from the generated data\n",
    "df = pd.DataFrame(production_data)\n",
    "\n"
   ]
  },
  {
   "cell_type": "code",
   "execution_count": 17,
   "id": "231a4b39",
   "metadata": {},
   "outputs": [
    {
     "name": "stdout",
     "output_type": "stream",
     "text": [
      "Production data generation completed. File 'ghana_rubber_production_data.csv' saved.\n"
     ]
    }
   ],
   "source": [
    "# Save the DataFrame to a CSV file\n",
    "df.to_csv('ghana_rubber_production_data.csv', index=False)\n",
    "\n",
    "print(\"Production data generation completed. File 'ghana_rubber_production_data.csv' saved.\")"
   ]
  },
  {
   "cell_type": "code",
   "execution_count": 18,
   "id": "eefe9143",
   "metadata": {},
   "outputs": [],
   "source": [
    "df = pd.read_csv(\"ghana_rubber_production_data.csv\")"
   ]
  },
  {
   "cell_type": "code",
   "execution_count": 19,
   "id": "172ccabe",
   "metadata": {},
   "outputs": [
    {
     "data": {
      "text/html": [
       "<div>\n",
       "<style scoped>\n",
       "    .dataframe tbody tr th:only-of-type {\n",
       "        vertical-align: middle;\n",
       "    }\n",
       "\n",
       "    .dataframe tbody tr th {\n",
       "        vertical-align: top;\n",
       "    }\n",
       "\n",
       "    .dataframe thead th {\n",
       "        text-align: right;\n",
       "    }\n",
       "</style>\n",
       "<table border=\"1\" class=\"dataframe\">\n",
       "  <thead>\n",
       "    <tr style=\"text-align: right;\">\n",
       "      <th></th>\n",
       "      <th>Production Date</th>\n",
       "      <th>Production Quantity (kg)</th>\n",
       "      <th>Production Location</th>\n",
       "      <th>Production Cost</th>\n",
       "      <th>Production Hours</th>\n",
       "    </tr>\n",
       "  </thead>\n",
       "  <tbody>\n",
       "    <tr>\n",
       "      <th>0</th>\n",
       "      <td>2024-02-07</td>\n",
       "      <td>1099</td>\n",
       "      <td>Kade, Eastern Region</td>\n",
       "      <td>53479</td>\n",
       "      <td>4</td>\n",
       "    </tr>\n",
       "    <tr>\n",
       "      <th>1</th>\n",
       "      <td>2024-02-19</td>\n",
       "      <td>2640</td>\n",
       "      <td>Abura Dunkwa, Central Region</td>\n",
       "      <td>32618</td>\n",
       "      <td>93</td>\n",
       "    </tr>\n",
       "    <tr>\n",
       "      <th>2</th>\n",
       "      <td>2023-12-01</td>\n",
       "      <td>9498</td>\n",
       "      <td>Daboase, Western Region</td>\n",
       "      <td>58971</td>\n",
       "      <td>66</td>\n",
       "    </tr>\n",
       "    <tr>\n",
       "      <th>3</th>\n",
       "      <td>2023-12-06</td>\n",
       "      <td>5398</td>\n",
       "      <td>Daboase, Western Region</td>\n",
       "      <td>16828</td>\n",
       "      <td>27</td>\n",
       "    </tr>\n",
       "    <tr>\n",
       "      <th>4</th>\n",
       "      <td>2023-09-24</td>\n",
       "      <td>461</td>\n",
       "      <td>Daboase, Western Region</td>\n",
       "      <td>58599</td>\n",
       "      <td>77</td>\n",
       "    </tr>\n",
       "    <tr>\n",
       "      <th>...</th>\n",
       "      <td>...</td>\n",
       "      <td>...</td>\n",
       "      <td>...</td>\n",
       "      <td>...</td>\n",
       "      <td>...</td>\n",
       "    </tr>\n",
       "    <tr>\n",
       "      <th>99995</th>\n",
       "      <td>2023-06-25</td>\n",
       "      <td>4246</td>\n",
       "      <td>Agona, Western Region</td>\n",
       "      <td>24418</td>\n",
       "      <td>70</td>\n",
       "    </tr>\n",
       "    <tr>\n",
       "      <th>99996</th>\n",
       "      <td>2023-04-15</td>\n",
       "      <td>3195</td>\n",
       "      <td>Daboase, Western Region</td>\n",
       "      <td>25297</td>\n",
       "      <td>91</td>\n",
       "    </tr>\n",
       "    <tr>\n",
       "      <th>99997</th>\n",
       "      <td>2023-07-16</td>\n",
       "      <td>2192</td>\n",
       "      <td>Abura Dunkwa, Central Region</td>\n",
       "      <td>436</td>\n",
       "      <td>71</td>\n",
       "    </tr>\n",
       "    <tr>\n",
       "      <th>99998</th>\n",
       "      <td>2023-05-09</td>\n",
       "      <td>501</td>\n",
       "      <td>Abura Dunkwa, Central Region</td>\n",
       "      <td>96369</td>\n",
       "      <td>98</td>\n",
       "    </tr>\n",
       "    <tr>\n",
       "      <th>99999</th>\n",
       "      <td>2023-06-06</td>\n",
       "      <td>864</td>\n",
       "      <td>Bunso, Eastern Region</td>\n",
       "      <td>95406</td>\n",
       "      <td>21</td>\n",
       "    </tr>\n",
       "  </tbody>\n",
       "</table>\n",
       "<p>100000 rows × 5 columns</p>\n",
       "</div>"
      ],
      "text/plain": [
       "      Production Date  Production Quantity (kg)           Production Location  \\\n",
       "0          2024-02-07                      1099          Kade, Eastern Region   \n",
       "1          2024-02-19                      2640  Abura Dunkwa, Central Region   \n",
       "2          2023-12-01                      9498       Daboase, Western Region   \n",
       "3          2023-12-06                      5398       Daboase, Western Region   \n",
       "4          2023-09-24                       461       Daboase, Western Region   \n",
       "...               ...                       ...                           ...   \n",
       "99995      2023-06-25                      4246         Agona, Western Region   \n",
       "99996      2023-04-15                      3195       Daboase, Western Region   \n",
       "99997      2023-07-16                      2192  Abura Dunkwa, Central Region   \n",
       "99998      2023-05-09                       501  Abura Dunkwa, Central Region   \n",
       "99999      2023-06-06                       864         Bunso, Eastern Region   \n",
       "\n",
       "       Production Cost  Production Hours  \n",
       "0                53479                 4  \n",
       "1                32618                93  \n",
       "2                58971                66  \n",
       "3                16828                27  \n",
       "4                58599                77  \n",
       "...                ...               ...  \n",
       "99995            24418                70  \n",
       "99996            25297                91  \n",
       "99997              436                71  \n",
       "99998            96369                98  \n",
       "99999            95406                21  \n",
       "\n",
       "[100000 rows x 5 columns]"
      ]
     },
     "execution_count": 19,
     "metadata": {},
     "output_type": "execute_result"
    }
   ],
   "source": [
    "df"
   ]
  },
  {
   "cell_type": "code",
   "execution_count": 12,
   "id": "ceb905c7",
   "metadata": {},
   "outputs": [
    {
     "data": {
      "text/plain": [
       "Index(['Production Date', 'Production Quantity (kg)', 'Production Location',\n",
       "       'Production Cost', 'Production Hours'],\n",
       "      dtype='object')"
      ]
     },
     "execution_count": 12,
     "metadata": {},
     "output_type": "execute_result"
    }
   ],
   "source": [
    "df.columns"
   ]
  },
  {
   "cell_type": "code",
   "execution_count": null,
   "id": "ff6d3f9b",
   "metadata": {},
   "outputs": [],
   "source": []
  },
  {
   "cell_type": "code",
   "execution_count": null,
   "id": "7832ca7e",
   "metadata": {},
   "outputs": [],
   "source": []
  }
 ],
 "metadata": {
  "kernelspec": {
   "display_name": "Python 3 (ipykernel)",
   "language": "python",
   "name": "python3"
  },
  "language_info": {
   "codemirror_mode": {
    "name": "ipython",
    "version": 3
   },
   "file_extension": ".py",
   "mimetype": "text/x-python",
   "name": "python",
   "nbconvert_exporter": "python",
   "pygments_lexer": "ipython3",
   "version": "3.11.7"
  }
 },
 "nbformat": 4,
 "nbformat_minor": 5
}
